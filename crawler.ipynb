{
 "cells": [
  {
   "cell_type": "code",
   "execution_count": null,
   "metadata": {},
   "outputs": [],
   "source": [
    "import requests\n",
    "import pandas as pd\n",
    "from datetime import datetime\n",
    "from tqdm import tqdm\n",
    "\n",
    "API_KEY = 'YOUR_API_KEY'  # Skyscanner API 키를 여기에 입력\n",
    "\n",
    "cities = [\"LON-sky\", \"ROM-sky\", \"PAR-sky\", \"MAD-sky\", \"BCN-sky\", \"NCE-sky\"]  # Skyscanner 도시 코드\n",
    "\n",
    "def get_flight_price(departure_date, return_date, from_city, to_city):\n",
    "    url = f\"https://partners.api.skyscanner.net/apiservices/browseroutes/v1.0/KR/KRW/en-US/{from_city}/{to_city}/{departure_date}/{return_date}\"\n",
    "    headers = {\n",
    "        \"api-key\": API_KEY\n",
    "    }\n",
    "    response = requests.get(url, headers=headers)\n",
    "    if response.status_code == 200:\n",
    "        data = response.json()\n",
    "        prices = [quote['MinPrice'] for quote in data['Quotes'] if quote['Direct']]\n",
    "        if prices:\n",
    "            return min(prices), url\n",
    "    return None, None\n",
    "\n",
    "def save_to_excel(data, filename=\"flight_prices.xlsx\"):\n",
    "    df = pd.DataFrame(data, columns=[\"Departure City\", \"Return City\", \"Price\", \"Link\"])\n",
    "    df.to_excel(filename, index=False)\n",
    "\n",
    "def main():\n",
    "    departure_date = \"2025-04-20\"\n",
    "    return_date = \"2025-05-08\"\n",
    "\n",
    "    results = []\n",
    "\n",
    "    for from_city in tqdm(cities, desc=\"Cities\", unit=\"city\"):\n",
    "        for to_city in cities:\n",
    "            price, link = get_flight_price(departure_date, return_date, from_city, to_city)\n",
    "            if price:\n",
    "                results.append([from_city, to_city, price, link])\n",
    "            else:\n",
    "                print(f\"No data for {from_city} to {to_city}\")\n",
    "\n",
    "    save_to_excel(results)\n",
    "    print(f\"Saved {len(results)} results to flight_prices.xlsx\")\n",
    "\n",
    "if __name__ == \"__main__\":\n",
    "    main()\n",
    "\n"
   ]
  },
  {
   "cell_type": "code",
   "execution_count": 6,
   "metadata": {},
   "outputs": [
    {
     "name": "stderr",
     "output_type": "stream",
     "text": [
      "Cities:   0%|          | 0/6 [00:00<?, ?city/s]"
     ]
    },
    {
     "name": "stdout",
     "output_type": "stream",
     "text": [
      "No data for London to London\n",
      "No data for London to Rome\n",
      "No data for London to Paris\n",
      "No data for London to Madrid\n",
      "No data for London to Barcelona\n",
      "No data for London to Nice\n"
     ]
    },
    {
     "name": "stderr",
     "output_type": "stream",
     "text": [
      "Cities:  17%|█▋        | 1/6 [01:00<05:03, 60.77s/city]"
     ]
    },
    {
     "name": "stdout",
     "output_type": "stream",
     "text": [
      "No data for Rome to London\n",
      "No data for Rome to Rome\n",
      "No data for Rome to Paris\n",
      "No data for Rome to Madrid\n",
      "No data for Rome to Barcelona\n",
      "No data for Rome to Nice\n"
     ]
    },
    {
     "name": "stderr",
     "output_type": "stream",
     "text": [
      "Cities:  33%|███▎      | 2/6 [02:01<04:02, 60.72s/city]"
     ]
    },
    {
     "name": "stdout",
     "output_type": "stream",
     "text": [
      "No data for Paris to London\n",
      "No data for Paris to Rome\n",
      "No data for Paris to Paris\n",
      "No data for Paris to Madrid\n",
      "No data for Paris to Barcelona\n"
     ]
    },
    {
     "name": "stderr",
     "output_type": "stream",
     "text": [
      "Cities:  33%|███▎      | 2/6 [02:52<05:44, 86.03s/city]\n"
     ]
    },
    {
     "ename": "KeyboardInterrupt",
     "evalue": "",
     "output_type": "error",
     "traceback": [
      "\u001b[1;31m---------------------------------------------------------------------------\u001b[0m",
      "\u001b[1;31mKeyboardInterrupt\u001b[0m                         Traceback (most recent call last)",
      "Cell \u001b[1;32mIn[6], line 58\u001b[0m\n\u001b[0;32m     55\u001b[0m     \u001b[38;5;28mprint\u001b[39m(\u001b[38;5;124mf\u001b[39m\u001b[38;5;124m\"\u001b[39m\u001b[38;5;124mSaved \u001b[39m\u001b[38;5;132;01m{\u001b[39;00m\u001b[38;5;28mlen\u001b[39m(results)\u001b[38;5;132;01m}\u001b[39;00m\u001b[38;5;124m results to \u001b[39m\u001b[38;5;132;01m{\u001b[39;00mfilename\u001b[38;5;132;01m}\u001b[39;00m\u001b[38;5;124m\"\u001b[39m)\n\u001b[0;32m     57\u001b[0m \u001b[38;5;28;01mif\u001b[39;00m \u001b[38;5;18m__name__\u001b[39m \u001b[38;5;241m==\u001b[39m \u001b[38;5;124m\"\u001b[39m\u001b[38;5;124m__main__\u001b[39m\u001b[38;5;124m\"\u001b[39m:\n\u001b[1;32m---> 58\u001b[0m     \u001b[43mmain\u001b[49m\u001b[43m(\u001b[49m\u001b[43m)\u001b[49m\n",
      "Cell \u001b[1;32mIn[6], line 52\u001b[0m, in \u001b[0;36mmain\u001b[1;34m()\u001b[0m\n\u001b[0;32m     50\u001b[0m         \u001b[38;5;28;01melse\u001b[39;00m:\n\u001b[0;32m     51\u001b[0m             \u001b[38;5;28mprint\u001b[39m(\u001b[38;5;124mf\u001b[39m\u001b[38;5;124m\"\u001b[39m\u001b[38;5;124mNo data for \u001b[39m\u001b[38;5;132;01m{\u001b[39;00mfrom_city\u001b[38;5;132;01m}\u001b[39;00m\u001b[38;5;124m to \u001b[39m\u001b[38;5;132;01m{\u001b[39;00mto_city\u001b[38;5;132;01m}\u001b[39;00m\u001b[38;5;124m\"\u001b[39m)\n\u001b[1;32m---> 52\u001b[0m         \u001b[43mtime\u001b[49m\u001b[38;5;241;43m.\u001b[39;49m\u001b[43msleep\u001b[49m\u001b[43m(\u001b[49m\u001b[38;5;241;43m10\u001b[39;49m\u001b[43m)\u001b[49m  \u001b[38;5;66;03m# 요청 사이에 10초 대기\u001b[39;00m\n\u001b[0;32m     54\u001b[0m save_to_excel(results)\n\u001b[0;32m     55\u001b[0m \u001b[38;5;28mprint\u001b[39m(\u001b[38;5;124mf\u001b[39m\u001b[38;5;124m\"\u001b[39m\u001b[38;5;124mSaved \u001b[39m\u001b[38;5;132;01m{\u001b[39;00m\u001b[38;5;28mlen\u001b[39m(results)\u001b[38;5;132;01m}\u001b[39;00m\u001b[38;5;124m results to \u001b[39m\u001b[38;5;132;01m{\u001b[39;00mfilename\u001b[38;5;132;01m}\u001b[39;00m\u001b[38;5;124m\"\u001b[39m)\n",
      "\u001b[1;31mKeyboardInterrupt\u001b[0m: "
     ]
    }
   ],
   "source": [
    "import requests\n",
    "from bs4 import BeautifulSoup\n",
    "import pandas as pd\n",
    "from datetime import datetime, timedelta\n",
    "import time\n",
    "from tqdm import tqdm\n",
    "\n",
    "cities = [\"London\", \"Rome\", \"Paris\", \"Madrid\", \"Barcelona\", \"Nice\"]\n",
    "\n",
    "def scrape_flight_price(departure_date, return_date, from_city, to_city):\n",
    "    url = f\"https://www.skyscanner.com/transport/flights/{from_city}/{to_city}/{departure_date}/{return_date}/\"\n",
    "    response = requests.get(url)\n",
    "    soup = BeautifulSoup(response.text, 'html.parser')\n",
    "\n",
    "    # 디버깅: HTML 저장\n",
    "    with open(f\"{from_city}_to_{to_city}.html\", \"w\", encoding='utf-8') as file:\n",
    "        file.write(response.text)\n",
    "\n",
    "    # 가격과 링크를 추출\n",
    "    flights = soup.find_all(\"div\", class_=\"ticket-info\")\n",
    "    prices_links = []\n",
    "    for flight in flights:\n",
    "        price_tag = flight.find(\"div\", class_=\"price-tag\")\n",
    "        if price_tag and \"direct\" in flight.get(\"data-flight-tags\", \"\"):\n",
    "            price = int(price_tag.text.replace(\",\", \"\").replace(\"$\", \"\"))\n",
    "            link_tag = flight.find(\"a\", class_=\"ticket-action\")\n",
    "            link = \"https://www.skyscanner.com\" + link_tag.get(\"href\") if link_tag else None\n",
    "            prices_links.append((price, link))\n",
    "\n",
    "    if prices_links:\n",
    "        return min(prices_links, key=lambda x: x[0])  # 가격이 가장 낮은 것을 선택\n",
    "    else:\n",
    "        return None, None\n",
    "\n",
    "def save_to_excel(data, filename=\"flight_prices.xlsx\"):\n",
    "    df = pd.DataFrame(data, columns=[\"Departure City\", \"Return City\", \"Price\", \"Link\"])\n",
    "    df.to_excel(filename, index=False)\n",
    "\n",
    "def main():\n",
    "    departure_date = \"2025-04-20\"\n",
    "    return_date = \"2025-05-08\"\n",
    "\n",
    "    results = []\n",
    "\n",
    "    for from_city in tqdm(cities, desc=\"Cities\", unit=\"city\"):\n",
    "        for to_city in cities:\n",
    "            price, link = scrape_flight_price(departure_date, return_date, from_city, to_city)\n",
    "            if price:\n",
    "                results.append([from_city, to_city, price, link])\n",
    "            else:\n",
    "                print(f\"No data for {from_city} to {to_city}\")\n",
    "            time.sleep(10)  # 요청 사이에 10초 대기\n",
    "\n",
    "    save_to_excel(results)\n",
    "    print(f\"Saved {len(results)} results to {filename}\")\n",
    "\n",
    "if __name__ == \"__main__\":\n",
    "    main()\n"
   ]
  },
  {
   "cell_type": "code",
   "execution_count": null,
   "metadata": {},
   "outputs": [],
   "source": []
  },
  {
   "cell_type": "code",
   "execution_count": 1,
   "metadata": {},
   "outputs": [],
   "source": [
    "import requests\n",
    "from bs4 import BeautifulSoup\n",
    "import pandas as pd\n",
    "from datetime import datetime, timedelta\n",
    "import time\n",
    "from tqdm import tqdm\n"
   ]
  },
  {
   "cell_type": "code",
   "execution_count": 2,
   "metadata": {},
   "outputs": [],
   "source": [
    "cities = [\"London\", \"Rome\", \"Paris\", \"Madrid\", \"Barcelona\", \"Nice\"]\n"
   ]
  },
  {
   "cell_type": "code",
   "execution_count": 3,
   "metadata": {},
   "outputs": [],
   "source": [
    "def scrape_flight_price(departure_date, return_date, from_city, to_city):\n",
    "    url = f\"https://www.skyscanner.com/transport/flights/{from_city}/{to_city}/{departure_date}/{return_date}/\"\n",
    "    response = requests.get(url)\n",
    "    soup = BeautifulSoup(response.text, 'html.parser')\n",
    "\n",
    "    # 가격과 링크를 추출\n",
    "    flights = soup.find_all(\"div\", class_=\"ticket-info\")\n",
    "    prices_links = []\n",
    "    for flight in flights:\n",
    "        price_tag = flight.find(\"div\", class_=\"price-tag\")\n",
    "        if price_tag and \"direct\" in flight.get(\"data-flight-tags\", \"\"):\n",
    "            price = int(price_tag.text.replace(\",\", \"\").replace(\"$\", \"\"))\n",
    "            link_tag = flight.find(\"a\", class_=\"ticket-action\")\n",
    "            link = \"https://www.skyscanner.com\" + link_tag.get(\"href\") if link_tag else None\n",
    "            prices_links.append((price, link))\n",
    "\n",
    "    if prices_links:\n",
    "        return min(prices_links, key=lambda x: x[0])  # 가격이 가장 낮은 것을 선택\n",
    "    else:\n",
    "        return None, None\n"
   ]
  },
  {
   "cell_type": "code",
   "execution_count": 4,
   "metadata": {},
   "outputs": [],
   "source": [
    "def save_to_excel(data, filename=\"flight_prices.xlsx\"):\n",
    "    df = pd.DataFrame(data, columns=[\"Departure City\", \"Return City\", \"Price\", \"Link\"])\n",
    "    df.to_excel(filename, index=False)"
   ]
  },
  {
   "cell_type": "code",
   "execution_count": 5,
   "metadata": {},
   "outputs": [
    {
     "name": "stderr",
     "output_type": "stream",
     "text": [
      "Cities:   0%|          | 0/6 [00:00<?, ?city/s]"
     ]
    },
    {
     "name": "stderr",
     "output_type": "stream",
     "text": [
      "Cities: 100%|██████████| 6/6 [00:58<00:00,  9.71s/city]\n"
     ]
    }
   ],
   "source": [
    "def main():\n",
    "    departure_date = \"2025-04-20\"\n",
    "    return_date = \"2025-05-08\"\n",
    "\n",
    "    results = []\n",
    "\n",
    "    for from_city in tqdm(cities, desc=\"Cities\", unit=\"city\"):\n",
    "        for to_city in cities:\n",
    "            price, link = scrape_flight_price(departure_date, return_date, from_city, to_city)\n",
    "            if price:\n",
    "                results.append([from_city, to_city, price, link])\n",
    "            time.sleep(1.5)  # 요청 사이에 2초 대기\n",
    "\n",
    "    save_to_excel(results)\n",
    "\n",
    "if __name__ == \"__main__\":\n",
    "    main()"
   ]
  },
  {
   "cell_type": "code",
   "execution_count": null,
   "metadata": {},
   "outputs": [],
   "source": []
  }
 ],
 "metadata": {
  "kernelspec": {
   "display_name": "Python 3",
   "language": "python",
   "name": "python3"
  },
  "language_info": {
   "codemirror_mode": {
    "name": "ipython",
    "version": 3
   },
   "file_extension": ".py",
   "mimetype": "text/x-python",
   "name": "python",
   "nbconvert_exporter": "python",
   "pygments_lexer": "ipython3",
   "version": "3.10.6"
  }
 },
 "nbformat": 4,
 "nbformat_minor": 2
}
